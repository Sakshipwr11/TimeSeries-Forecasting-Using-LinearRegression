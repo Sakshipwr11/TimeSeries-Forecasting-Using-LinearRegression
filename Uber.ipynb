{
 "cells": [
  {
   "cell_type": "markdown",
   "id": "e354db4d",
   "metadata": {},
   "source": [
    "# Using LinearRegression for predicting uber fare price based on variable like distance, year, month, day, passenger count.\n"
   ]
  },
  {
   "cell_type": "markdown",
   "id": "7f76b6c1",
   "metadata": {},
   "source": [
    "## Import Libraries "
   ]
  },
  {
   "cell_type": "code",
   "execution_count": 80,
   "id": "0c9a2a2e",
   "metadata": {},
   "outputs": [
    {
     "name": "stdout",
     "output_type": "stream",
     "text": [
      "Requirement already satisfied: geopy in c:\\users\\sakshi\\anaconda3\\lib\\site-packages (2.2.0)\n",
      "Requirement already satisfied: geographiclib<2,>=1.49 in c:\\users\\sakshi\\anaconda3\\lib\\site-packages (from geopy) (1.52)\n"
     ]
    }
   ],
   "source": [
    "import pandas as pd\n",
    "import matplotlib.pyplot as mp\n",
    "!pip install geopy\n",
    "import warnings\n",
    "warnings.simplefilter(action='ignore', category=Warning)\n",
    "import seaborn as sns\n",
    "from math import sin, cos, sqrt, atan2, radians\n",
    "\n",
    "import sklearn\n",
    "from sklearn.model_selection import train_test_split\n",
    "from sklearn.linear_model import LinearRegression\n",
    "from sklearn import metrics\n",
    "from sklearn.metrics import r2_score"
   ]
  },
  {
   "cell_type": "markdown",
   "id": "84265459",
   "metadata": {},
   "source": [
    "## Function Defination"
   ]
  },
  {
   "cell_type": "code",
   "execution_count": 2,
   "id": "5f9cad38",
   "metadata": {},
   "outputs": [],
   "source": [
    "def calculate_distance(data,O_lat,O_lon,D_lat,D_lon):\n",
    "    df=data\n",
    "    \n",
    "    lat1 = radians(O_lat)\n",
    "    \n",
    "    lon1 = radians(O_lon)\n",
    "    lat2 = radians(D_lat)\n",
    "    lon2 = radians(D_lon)\n",
    "\n",
    "    dlon = lon2 - lon1\n",
    "    dlat = lat2 - lat1\n",
    "    \n",
    "    \n",
    "    a = sin(dlat / 2)**2 + cos(lat1) * cos(lat2) * sin(dlon / 2)**2\n",
    "    c = 2 * atan2(sqrt(a), sqrt(1 - a))\n",
    "\n",
    "    df.loc[i, 'distance'] = 6373.0*c"
   ]
  },
  {
   "cell_type": "code",
   "execution_count": 3,
   "id": "5ff4127e",
   "metadata": {},
   "outputs": [],
   "source": [
    "def show_box_plot(data,col):\n",
    "    fig = mp.figure(figsize =(10, 7)) #defining figure size\n",
    "    mp.boxplot(data[col])\n",
    "    mp.show()"
   ]
  },
  {
   "cell_type": "code",
   "execution_count": 4,
   "id": "efa49b44",
   "metadata": {},
   "outputs": [],
   "source": [
    "\n",
    "def get_iqr_range(data):\n",
    "    Q1=data.quantile(0.1)\n",
    "    Q3=data.quantile(0.99)\n",
    "    IQR=Q3-Q1\n",
    "    lower_bound=Q1-1.5*IQR\n",
    "    upper_bound=Q3+1.5*IQR\n",
    "    return upper_bound, lower_bound\n",
    "\n",
    "def outlier_correction(data,col):\n",
    "    upper_bound,lower_bound=get_iqr_range(data[col])\n",
    "    \n",
    "    data = data[(data[col] < upper_bound) & (data[col] > lower_bound)]\n",
    "    return data   "
   ]
  },
  {
   "cell_type": "markdown",
   "id": "eabb2677",
   "metadata": {},
   "source": [
    "## Import Data & Cleaning Data"
   ]
  },
  {
   "cell_type": "code",
   "execution_count": 5,
   "id": "031159d5",
   "metadata": {},
   "outputs": [
    {
     "data": {
      "text/plain": [
       "Unnamed: 0             int64\n",
       "key                   object\n",
       "fare_amount          float64\n",
       "pickup_datetime       object\n",
       "pickup_longitude     float64\n",
       "pickup_latitude      float64\n",
       "dropoff_longitude    float64\n",
       "dropoff_latitude     float64\n",
       "passenger_count        int64\n",
       "dtype: object"
      ]
     },
     "execution_count": 5,
     "metadata": {},
     "output_type": "execute_result"
    }
   ],
   "source": [
    "df=pd.read_csv('uber.csv')\n",
    "df.dtypes"
   ]
  },
  {
   "cell_type": "code",
   "execution_count": 6,
   "id": "090596c5",
   "metadata": {},
   "outputs": [],
   "source": [
    "df['pickup_datetime']= pd.to_datetime(df['pickup_datetime'])"
   ]
  },
  {
   "cell_type": "code",
   "execution_count": 7,
   "id": "a67bd828",
   "metadata": {},
   "outputs": [],
   "source": [
    "df=df.drop(['Unnamed: 0','key'], axis=1)"
   ]
  },
  {
   "cell_type": "code",
   "execution_count": 8,
   "id": "4a7e31ba",
   "metadata": {},
   "outputs": [
    {
     "data": {
      "image/png": "[encoded data removed]",
      "text/plain": [
       "<Figure size 720x504 with 1 Axes>"
      ]
     },
     "metadata": {
      "needs_background": "light"
     },
     "output_type": "display_data"
    }
   ],
   "source": [
    "show_box_plot(df,\"passenger_count\")"
   ]
  },
  {
   "cell_type": "code",
   "execution_count": 9,
   "id": "022a900d",
   "metadata": {},
   "outputs": [],
   "source": [
    "df=df.loc[(df['passenger_count'] >= 1) & (df['passenger_count'] <= 7)]"
   ]
  },
  {
   "cell_type": "code",
   "execution_count": 10,
   "id": "e943b515",
   "metadata": {},
   "outputs": [],
   "source": [
    "df=df.loc[(df['fare_amount'] >= 1)]"
   ]
  },
  {
   "cell_type": "code",
   "execution_count": 11,
   "id": "6ecf3404",
   "metadata": {},
   "outputs": [
    {
     "data": {
      "text/html": [
       "<div>\n",
       "<style scoped>\n",
       "    .dataframe tbody tr th:only-of-type {\n",
       "        vertical-align: middle;\n",
       "    }\n",
       "\n",
       "    .dataframe tbody tr th {\n",
       "        vertical-align: top;\n",
       "    }\n",
       "\n",
       "    .dataframe thead th {\n",
       "        text-align: right;\n",
       "    }\n",
       "</style>\n",
       "<table border=\"1\" class=\"dataframe\">\n",
       "  <thead>\n",
       "    <tr style=\"text-align: right;\">\n",
       "      <th></th>\n",
       "      <th>fare_amount</th>\n",
       "      <th>pickup_longitude</th>\n",
       "      <th>pickup_latitude</th>\n",
       "      <th>dropoff_longitude</th>\n",
       "      <th>dropoff_latitude</th>\n",
       "      <th>passenger_count</th>\n",
       "    </tr>\n",
       "  </thead>\n",
       "  <tbody>\n",
       "    <tr>\n",
       "      <th>count</th>\n",
       "      <td>199265.000000</td>\n",
       "      <td>199265.000000</td>\n",
       "      <td>199265.000000</td>\n",
       "      <td>199265.000000</td>\n",
       "      <td>199265.000000</td>\n",
       "      <td>199265.000000</td>\n",
       "    </tr>\n",
       "    <tr>\n",
       "      <th>mean</th>\n",
       "      <td>11.369588</td>\n",
       "      <td>-72.530091</td>\n",
       "      <td>39.937170</td>\n",
       "      <td>-72.528120</td>\n",
       "      <td>39.925337</td>\n",
       "      <td>1.689449</td>\n",
       "    </tr>\n",
       "    <tr>\n",
       "      <th>std</th>\n",
       "      <td>9.905854</td>\n",
       "      <td>11.434318</td>\n",
       "      <td>7.723738</td>\n",
       "      <td>13.119145</td>\n",
       "      <td>6.794213</td>\n",
       "      <td>1.305394</td>\n",
       "    </tr>\n",
       "    <tr>\n",
       "      <th>min</th>\n",
       "      <td>2.500000</td>\n",
       "      <td>-1340.648410</td>\n",
       "      <td>-74.015515</td>\n",
       "      <td>-3356.666300</td>\n",
       "      <td>-881.985513</td>\n",
       "      <td>1.000000</td>\n",
       "    </tr>\n",
       "    <tr>\n",
       "      <th>25%</th>\n",
       "      <td>6.000000</td>\n",
       "      <td>-73.992065</td>\n",
       "      <td>40.734796</td>\n",
       "      <td>-73.991409</td>\n",
       "      <td>40.733828</td>\n",
       "      <td>1.000000</td>\n",
       "    </tr>\n",
       "    <tr>\n",
       "      <th>50%</th>\n",
       "      <td>8.500000</td>\n",
       "      <td>-73.981825</td>\n",
       "      <td>40.752584</td>\n",
       "      <td>-73.980095</td>\n",
       "      <td>40.753040</td>\n",
       "      <td>1.000000</td>\n",
       "    </tr>\n",
       "    <tr>\n",
       "      <th>75%</th>\n",
       "      <td>12.500000</td>\n",
       "      <td>-73.967160</td>\n",
       "      <td>40.767157</td>\n",
       "      <td>-73.963664</td>\n",
       "      <td>40.767995</td>\n",
       "      <td>2.000000</td>\n",
       "    </tr>\n",
       "    <tr>\n",
       "      <th>max</th>\n",
       "      <td>499.000000</td>\n",
       "      <td>57.418457</td>\n",
       "      <td>1644.421482</td>\n",
       "      <td>1153.572603</td>\n",
       "      <td>872.697628</td>\n",
       "      <td>6.000000</td>\n",
       "    </tr>\n",
       "  </tbody>\n",
       "</table>\n",
       "</div>"
      ],
      "text/plain": [
       "         fare_amount  pickup_longitude  pickup_latitude  dropoff_longitude  \\\n",
       "count  199265.000000     199265.000000    199265.000000      199265.000000   \n",
       "mean       11.369588        -72.530091        39.937170         -72.528120   \n",
       "std         9.905854         11.434318         7.723738          13.119145   \n",
       "min         2.500000      -1340.648410       -74.015515       -3356.666300   \n",
       "25%         6.000000        -73.992065        40.734796         -73.991409   \n",
       "50%         8.500000        -73.981825        40.752584         -73.980095   \n",
       "75%        12.500000        -73.967160        40.767157         -73.963664   \n",
       "max       499.000000         57.418457      1644.421482        1153.572603   \n",
       "\n",
       "       dropoff_latitude  passenger_count  \n",
       "count     199265.000000    199265.000000  \n",
       "mean          39.925337         1.689449  \n",
       "std            6.794213         1.305394  \n",
       "min         -881.985513         1.000000  \n",
       "25%           40.733828         1.000000  \n",
       "50%           40.753040         1.000000  \n",
       "75%           40.767995         2.000000  \n",
       "max          872.697628         6.000000  "
      ]
     },
     "execution_count": 11,
     "metadata": {},
     "output_type": "execute_result"
    }
   ],
   "source": [
    "df.describe()"
   ]
  },
  {
   "cell_type": "code",
   "execution_count": 12,
   "id": "d8fbc372",
   "metadata": {},
   "outputs": [
    {
     "data": {
      "image/png": "[encoded data removed]",
      "text/plain": [
       "<Figure size 720x504 with 1 Axes>"
      ]
     },
     "metadata": {
      "needs_background": "light"
     },
     "output_type": "display_data"
    }
   ],
   "source": [
    "show_box_plot(df,\"fare_amount\")"
   ]
  },
  {
   "cell_type": "code",
   "execution_count": 13,
   "id": "32378238",
   "metadata": {},
   "outputs": [
    {
     "data": {
      "text/html": [
       "<div>\n",
       "<style scoped>\n",
       "    .dataframe tbody tr th:only-of-type {\n",
       "        vertical-align: middle;\n",
       "    }\n",
       "\n",
       "    .dataframe tbody tr th {\n",
       "        vertical-align: top;\n",
       "    }\n",
       "\n",
       "    .dataframe thead th {\n",
       "        text-align: right;\n",
       "    }\n",
       "</style>\n",
       "<table border=\"1\" class=\"dataframe\">\n",
       "  <thead>\n",
       "    <tr style=\"text-align: right;\">\n",
       "      <th></th>\n",
       "      <th>fare_amount</th>\n",
       "      <th>pickup_datetime</th>\n",
       "      <th>pickup_longitude</th>\n",
       "      <th>pickup_latitude</th>\n",
       "      <th>dropoff_longitude</th>\n",
       "      <th>dropoff_latitude</th>\n",
       "      <th>passenger_count</th>\n",
       "    </tr>\n",
       "  </thead>\n",
       "  <tbody>\n",
       "    <tr>\n",
       "      <th>0</th>\n",
       "      <td>7.5</td>\n",
       "      <td>2015-05-07 19:52:06+00:00</td>\n",
       "      <td>-73.999817</td>\n",
       "      <td>40.738354</td>\n",
       "      <td>-73.999512</td>\n",
       "      <td>40.723217</td>\n",
       "      <td>1</td>\n",
       "    </tr>\n",
       "    <tr>\n",
       "      <th>1</th>\n",
       "      <td>7.7</td>\n",
       "      <td>2009-07-17 20:04:56+00:00</td>\n",
       "      <td>-73.994355</td>\n",
       "      <td>40.728225</td>\n",
       "      <td>-73.994710</td>\n",
       "      <td>40.750325</td>\n",
       "      <td>1</td>\n",
       "    </tr>\n",
       "    <tr>\n",
       "      <th>2</th>\n",
       "      <td>12.9</td>\n",
       "      <td>2009-08-24 21:45:00+00:00</td>\n",
       "      <td>-74.005043</td>\n",
       "      <td>40.740770</td>\n",
       "      <td>-73.962565</td>\n",
       "      <td>40.772647</td>\n",
       "      <td>1</td>\n",
       "    </tr>\n",
       "    <tr>\n",
       "      <th>3</th>\n",
       "      <td>5.3</td>\n",
       "      <td>2009-06-26 08:22:21+00:00</td>\n",
       "      <td>-73.976124</td>\n",
       "      <td>40.790844</td>\n",
       "      <td>-73.965316</td>\n",
       "      <td>40.803349</td>\n",
       "      <td>3</td>\n",
       "    </tr>\n",
       "    <tr>\n",
       "      <th>4</th>\n",
       "      <td>16.0</td>\n",
       "      <td>2014-08-28 17:47:00+00:00</td>\n",
       "      <td>-73.925023</td>\n",
       "      <td>40.744085</td>\n",
       "      <td>-73.973082</td>\n",
       "      <td>40.761247</td>\n",
       "      <td>5</td>\n",
       "    </tr>\n",
       "  </tbody>\n",
       "</table>\n",
       "</div>"
      ],
      "text/plain": [
       "   fare_amount           pickup_datetime  pickup_longitude  pickup_latitude  \\\n",
       "0          7.5 2015-05-07 19:52:06+00:00        -73.999817        40.738354   \n",
       "1          7.7 2009-07-17 20:04:56+00:00        -73.994355        40.728225   \n",
       "2         12.9 2009-08-24 21:45:00+00:00        -74.005043        40.740770   \n",
       "3          5.3 2009-06-26 08:22:21+00:00        -73.976124        40.790844   \n",
       "4         16.0 2014-08-28 17:47:00+00:00        -73.925023        40.744085   \n",
       "\n",
       "   dropoff_longitude  dropoff_latitude  passenger_count  \n",
       "0         -73.999512         40.723217                1  \n",
       "1         -73.994710         40.750325                1  \n",
       "2         -73.962565         40.772647                1  \n",
       "3         -73.965316         40.803349                3  \n",
       "4         -73.973082         40.761247                5  "
      ]
     },
     "execution_count": 13,
     "metadata": {},
     "output_type": "execute_result"
    }
   ],
   "source": [
    "df.head()"
   ]
  },
  {
   "cell_type": "code",
   "execution_count": 14,
   "id": "23daedc0",
   "metadata": {},
   "outputs": [
    {
     "data": {
      "text/plain": [
       "fare_amount                      float64\n",
       "pickup_datetime      datetime64[ns, UTC]\n",
       "pickup_longitude                 float64\n",
       "pickup_latitude                  float64\n",
       "dropoff_longitude                float64\n",
       "dropoff_latitude                 float64\n",
       "passenger_count                    int64\n",
       "dtype: object"
      ]
     },
     "execution_count": 14,
     "metadata": {},
     "output_type": "execute_result"
    }
   ],
   "source": [
    "df.dtypes"
   ]
  },
  {
   "cell_type": "code",
   "execution_count": 15,
   "id": "0dd9ca43",
   "metadata": {},
   "outputs": [
    {
     "data": {
      "text/plain": [
       "199265"
      ]
     },
     "execution_count": 15,
     "metadata": {},
     "output_type": "execute_result"
    }
   ],
   "source": [
    "len(df)"
   ]
  },
  {
   "cell_type": "code",
   "execution_count": 16,
   "id": "d5626f06",
   "metadata": {},
   "outputs": [],
   "source": [
    "df.dropna(inplace=True) "
   ]
  },
  {
   "cell_type": "code",
   "execution_count": 17,
   "id": "b68f4d04",
   "metadata": {},
   "outputs": [
    {
     "data": {
      "text/plain": [
       "199265"
      ]
     },
     "execution_count": 17,
     "metadata": {},
     "output_type": "execute_result"
    }
   ],
   "source": [
    "len(df)"
   ]
  },
  {
   "cell_type": "code",
   "execution_count": 18,
   "id": "8d89cbbc",
   "metadata": {},
   "outputs": [],
   "source": [
    "df['month']=df[ \"pickup_datetime\"].dt.month\n",
    "df['day']=df[ \"pickup_datetime\"].dt.day\n",
    "df['year']=df[ \"pickup_datetime\"].dt.year"
   ]
  },
  {
   "cell_type": "code",
   "execution_count": 22,
   "id": "14ceabe5",
   "metadata": {},
   "outputs": [],
   "source": [
    "for i in range(len(df)):\n",
    "    try:\n",
    "        \n",
    "        calculate_distance(df,df.loc[i,\"pickup_latitude\"],df.loc[i,\"pickup_longitude\"],df.loc[i,\"dropoff_latitude\"],df.loc[i,\"dropoff_longitude\"])\n",
    "    except:\n",
    "        pass"
   ]
  },
  {
   "cell_type": "code",
   "execution_count": 23,
   "id": "c509b58f",
   "metadata": {},
   "outputs": [
    {
     "data": {
      "text/html": [
       "<div>\n",
       "<style scoped>\n",
       "    .dataframe tbody tr th:only-of-type {\n",
       "        vertical-align: middle;\n",
       "    }\n",
       "\n",
       "    .dataframe tbody tr th {\n",
       "        vertical-align: top;\n",
       "    }\n",
       "\n",
       "    .dataframe thead th {\n",
       "        text-align: right;\n",
       "    }\n",
       "</style>\n",
       "<table border=\"1\" class=\"dataframe\">\n",
       "  <thead>\n",
       "    <tr style=\"text-align: right;\">\n",
       "      <th></th>\n",
       "      <th>fare_amount</th>\n",
       "      <th>pickup_longitude</th>\n",
       "      <th>pickup_latitude</th>\n",
       "      <th>dropoff_longitude</th>\n",
       "      <th>dropoff_latitude</th>\n",
       "      <th>passenger_count</th>\n",
       "      <th>month</th>\n",
       "      <th>day</th>\n",
       "      <th>year</th>\n",
       "      <th>distance</th>\n",
       "    </tr>\n",
       "  </thead>\n",
       "  <tbody>\n",
       "    <tr>\n",
       "      <th>count</th>\n",
       "      <td>199265.000000</td>\n",
       "      <td>199265.000000</td>\n",
       "      <td>199265.000000</td>\n",
       "      <td>199265.000000</td>\n",
       "      <td>199265.000000</td>\n",
       "      <td>199265.000000</td>\n",
       "      <td>199265.000000</td>\n",
       "      <td>199265.000000</td>\n",
       "      <td>199265.000000</td>\n",
       "      <td>198530.000000</td>\n",
       "    </tr>\n",
       "    <tr>\n",
       "      <th>mean</th>\n",
       "      <td>11.369588</td>\n",
       "      <td>-72.530091</td>\n",
       "      <td>39.937170</td>\n",
       "      <td>-72.528120</td>\n",
       "      <td>39.925337</td>\n",
       "      <td>1.689449</td>\n",
       "      <td>6.283512</td>\n",
       "      <td>15.705658</td>\n",
       "      <td>2011.743683</td>\n",
       "      <td>20.633159</td>\n",
       "    </tr>\n",
       "    <tr>\n",
       "      <th>std</th>\n",
       "      <td>9.905854</td>\n",
       "      <td>11.434318</td>\n",
       "      <td>7.723738</td>\n",
       "      <td>13.119145</td>\n",
       "      <td>6.794213</td>\n",
       "      <td>1.305394</td>\n",
       "      <td>3.438442</td>\n",
       "      <td>8.686813</td>\n",
       "      <td>1.859028</td>\n",
       "      <td>380.709825</td>\n",
       "    </tr>\n",
       "    <tr>\n",
       "      <th>min</th>\n",
       "      <td>2.500000</td>\n",
       "      <td>-1340.648410</td>\n",
       "      <td>-74.015515</td>\n",
       "      <td>-3356.666300</td>\n",
       "      <td>-881.985513</td>\n",
       "      <td>1.000000</td>\n",
       "      <td>1.000000</td>\n",
       "      <td>1.000000</td>\n",
       "      <td>2009.000000</td>\n",
       "      <td>0.000000</td>\n",
       "    </tr>\n",
       "    <tr>\n",
       "      <th>25%</th>\n",
       "      <td>6.000000</td>\n",
       "      <td>-73.992065</td>\n",
       "      <td>40.734796</td>\n",
       "      <td>-73.991409</td>\n",
       "      <td>40.733828</td>\n",
       "      <td>1.000000</td>\n",
       "      <td>3.000000</td>\n",
       "      <td>8.000000</td>\n",
       "      <td>2010.000000</td>\n",
       "      <td>1.215680</td>\n",
       "    </tr>\n",
       "    <tr>\n",
       "      <th>50%</th>\n",
       "      <td>8.500000</td>\n",
       "      <td>-73.981825</td>\n",
       "      <td>40.752584</td>\n",
       "      <td>-73.980095</td>\n",
       "      <td>40.753040</td>\n",
       "      <td>1.000000</td>\n",
       "      <td>6.000000</td>\n",
       "      <td>16.000000</td>\n",
       "      <td>2012.000000</td>\n",
       "      <td>2.122035</td>\n",
       "    </tr>\n",
       "    <tr>\n",
       "      <th>75%</th>\n",
       "      <td>12.500000</td>\n",
       "      <td>-73.967160</td>\n",
       "      <td>40.767157</td>\n",
       "      <td>-73.963664</td>\n",
       "      <td>40.767995</td>\n",
       "      <td>2.000000</td>\n",
       "      <td>9.000000</td>\n",
       "      <td>23.000000</td>\n",
       "      <td>2013.000000</td>\n",
       "      <td>3.877289</td>\n",
       "    </tr>\n",
       "    <tr>\n",
       "      <th>max</th>\n",
       "      <td>499.000000</td>\n",
       "      <td>57.418457</td>\n",
       "      <td>1644.421482</td>\n",
       "      <td>1153.572603</td>\n",
       "      <td>872.697628</td>\n",
       "      <td>6.000000</td>\n",
       "      <td>12.000000</td>\n",
       "      <td>31.000000</td>\n",
       "      <td>2015.000000</td>\n",
       "      <td>16414.390364</td>\n",
       "    </tr>\n",
       "  </tbody>\n",
       "</table>\n",
       "</div>"
      ],
      "text/plain": [
       "         fare_amount  pickup_longitude  pickup_latitude  dropoff_longitude  \\\n",
       "count  199265.000000     199265.000000    199265.000000      199265.000000   \n",
       "mean       11.369588        -72.530091        39.937170         -72.528120   \n",
       "std         9.905854         11.434318         7.723738          13.119145   \n",
       "min         2.500000      -1340.648410       -74.015515       -3356.666300   \n",
       "25%         6.000000        -73.992065        40.734796         -73.991409   \n",
       "50%         8.500000        -73.981825        40.752584         -73.980095   \n",
       "75%        12.500000        -73.967160        40.767157         -73.963664   \n",
       "max       499.000000         57.418457      1644.421482        1153.572603   \n",
       "\n",
       "       dropoff_latitude  passenger_count          month            day  \\\n",
       "count     199265.000000    199265.000000  199265.000000  199265.000000   \n",
       "mean          39.925337         1.689449       6.283512      15.705658   \n",
       "std            6.794213         1.305394       3.438442       8.686813   \n",
       "min         -881.985513         1.000000       1.000000       1.000000   \n",
       "25%           40.733828         1.000000       3.000000       8.000000   \n",
       "50%           40.753040         1.000000       6.000000      16.000000   \n",
       "75%           40.767995         2.000000       9.000000      23.000000   \n",
       "max          872.697628         6.000000      12.000000      31.000000   \n",
       "\n",
       "                year       distance  \n",
       "count  199265.000000  198530.000000  \n",
       "mean     2011.743683      20.633159  \n",
       "std         1.859028     380.709825  \n",
       "min      2009.000000       0.000000  \n",
       "25%      2010.000000       1.215680  \n",
       "50%      2012.000000       2.122035  \n",
       "75%      2013.000000       3.877289  \n",
       "max      2015.000000   16414.390364  "
      ]
     },
     "execution_count": 23,
     "metadata": {},
     "output_type": "execute_result"
    }
   ],
   "source": [
    "df.describe()"
   ]
  },
  {
   "cell_type": "code",
   "execution_count": 24,
   "id": "acd56b6e",
   "metadata": {},
   "outputs": [],
   "source": [
    "df=df. dropna() \n",
    "df=df.loc[(df['distance'] > 0)]"
   ]
  },
  {
   "cell_type": "code",
   "execution_count": 25,
   "id": "e455bfd6",
   "metadata": {},
   "outputs": [
    {
     "data": {
      "image/png": "[encoded data removed]",
      "text/plain": [
       "<Figure size 720x504 with 1 Axes>"
      ]
     },
     "metadata": {
      "needs_background": "light"
     },
     "output_type": "display_data"
    },
    {
     "name": "stdout",
     "output_type": "stream",
     "text": [
      "None\n"
     ]
    }
   ],
   "source": [
    "print(show_box_plot(df,\"distance\"))"
   ]
  },
  {
   "cell_type": "code",
   "execution_count": 26,
   "id": "01a8d085",
   "metadata": {},
   "outputs": [
    {
     "data": {
      "text/html": [
       "<div>\n",
       "<style scoped>\n",
       "    .dataframe tbody tr th:only-of-type {\n",
       "        vertical-align: middle;\n",
       "    }\n",
       "\n",
       "    .dataframe tbody tr th {\n",
       "        vertical-align: top;\n",
       "    }\n",
       "\n",
       "    .dataframe thead th {\n",
       "        text-align: right;\n",
       "    }\n",
       "</style>\n",
       "<table border=\"1\" class=\"dataframe\">\n",
       "  <thead>\n",
       "    <tr style=\"text-align: right;\">\n",
       "      <th></th>\n",
       "      <th>fare_amount</th>\n",
       "      <th>pickup_longitude</th>\n",
       "      <th>pickup_latitude</th>\n",
       "      <th>dropoff_longitude</th>\n",
       "      <th>dropoff_latitude</th>\n",
       "      <th>passenger_count</th>\n",
       "      <th>month</th>\n",
       "      <th>day</th>\n",
       "      <th>year</th>\n",
       "      <th>distance</th>\n",
       "    </tr>\n",
       "  </thead>\n",
       "  <tbody>\n",
       "    <tr>\n",
       "      <th>count</th>\n",
       "      <td>192452.000000</td>\n",
       "      <td>192452.000000</td>\n",
       "      <td>192452.000000</td>\n",
       "      <td>192452.000000</td>\n",
       "      <td>192452.000000</td>\n",
       "      <td>192452.00000</td>\n",
       "      <td>192452.000000</td>\n",
       "      <td>192452.000000</td>\n",
       "      <td>192452.000000</td>\n",
       "      <td>192452.000000</td>\n",
       "    </tr>\n",
       "    <tr>\n",
       "      <th>mean</th>\n",
       "      <td>11.349341</td>\n",
       "      <td>-73.910168</td>\n",
       "      <td>40.689904</td>\n",
       "      <td>-73.909193</td>\n",
       "      <td>40.688348</td>\n",
       "      <td>1.68959</td>\n",
       "      <td>6.283250</td>\n",
       "      <td>15.705620</td>\n",
       "      <td>2011.746529</td>\n",
       "      <td>3.351980</td>\n",
       "    </tr>\n",
       "    <tr>\n",
       "      <th>std</th>\n",
       "      <td>9.709433</td>\n",
       "      <td>2.694953</td>\n",
       "      <td>2.763934</td>\n",
       "      <td>2.695041</td>\n",
       "      <td>2.639361</td>\n",
       "      <td>1.30516</td>\n",
       "      <td>3.439722</td>\n",
       "      <td>8.687367</td>\n",
       "      <td>1.862706</td>\n",
       "      <td>3.597288</td>\n",
       "    </tr>\n",
       "    <tr>\n",
       "      <th>min</th>\n",
       "      <td>2.500000</td>\n",
       "      <td>-75.387785</td>\n",
       "      <td>-74.015515</td>\n",
       "      <td>-75.417737</td>\n",
       "      <td>-74.015750</td>\n",
       "      <td>1.00000</td>\n",
       "      <td>1.000000</td>\n",
       "      <td>1.000000</td>\n",
       "      <td>2009.000000</td>\n",
       "      <td>0.000084</td>\n",
       "    </tr>\n",
       "    <tr>\n",
       "      <th>25%</th>\n",
       "      <td>6.000000</td>\n",
       "      <td>-73.992279</td>\n",
       "      <td>40.736437</td>\n",
       "      <td>-73.991600</td>\n",
       "      <td>40.735313</td>\n",
       "      <td>1.00000</td>\n",
       "      <td>3.000000</td>\n",
       "      <td>8.000000</td>\n",
       "      <td>2010.000000</td>\n",
       "      <td>1.280196</td>\n",
       "    </tr>\n",
       "    <tr>\n",
       "      <th>50%</th>\n",
       "      <td>8.500000</td>\n",
       "      <td>-73.982131</td>\n",
       "      <td>40.753282</td>\n",
       "      <td>-73.980567</td>\n",
       "      <td>40.753735</td>\n",
       "      <td>1.00000</td>\n",
       "      <td>6.000000</td>\n",
       "      <td>16.000000</td>\n",
       "      <td>2012.000000</td>\n",
       "      <td>2.180383</td>\n",
       "    </tr>\n",
       "    <tr>\n",
       "      <th>75%</th>\n",
       "      <td>12.500000</td>\n",
       "      <td>-73.968460</td>\n",
       "      <td>40.767522</td>\n",
       "      <td>-73.965523</td>\n",
       "      <td>40.768320</td>\n",
       "      <td>2.00000</td>\n",
       "      <td>9.000000</td>\n",
       "      <td>23.000000</td>\n",
       "      <td>2013.000000</td>\n",
       "      <td>3.938506</td>\n",
       "    </tr>\n",
       "    <tr>\n",
       "      <th>max</th>\n",
       "      <td>499.000000</td>\n",
       "      <td>40.808425</td>\n",
       "      <td>401.066667</td>\n",
       "      <td>40.831932</td>\n",
       "      <td>45.031598</td>\n",
       "      <td>6.00000</td>\n",
       "      <td>12.000000</td>\n",
       "      <td>31.000000</td>\n",
       "      <td>2015.000000</td>\n",
       "      <td>49.019114</td>\n",
       "    </tr>\n",
       "  </tbody>\n",
       "</table>\n",
       "</div>"
      ],
      "text/plain": [
       "         fare_amount  pickup_longitude  pickup_latitude  dropoff_longitude  \\\n",
       "count  192452.000000     192452.000000    192452.000000      192452.000000   \n",
       "mean       11.349341        -73.910168        40.689904         -73.909193   \n",
       "std         9.709433          2.694953         2.763934           2.695041   \n",
       "min         2.500000        -75.387785       -74.015515         -75.417737   \n",
       "25%         6.000000        -73.992279        40.736437         -73.991600   \n",
       "50%         8.500000        -73.982131        40.753282         -73.980567   \n",
       "75%        12.500000        -73.968460        40.767522         -73.965523   \n",
       "max       499.000000         40.808425       401.066667          40.831932   \n",
       "\n",
       "       dropoff_latitude  passenger_count          month            day  \\\n",
       "count     192452.000000     192452.00000  192452.000000  192452.000000   \n",
       "mean          40.688348          1.68959       6.283250      15.705620   \n",
       "std            2.639361          1.30516       3.439722       8.687367   \n",
       "min          -74.015750          1.00000       1.000000       1.000000   \n",
       "25%           40.735313          1.00000       3.000000       8.000000   \n",
       "50%           40.753735          1.00000       6.000000      16.000000   \n",
       "75%           40.768320          2.00000       9.000000      23.000000   \n",
       "max           45.031598          6.00000      12.000000      31.000000   \n",
       "\n",
       "                year       distance  \n",
       "count  192452.000000  192452.000000  \n",
       "mean     2011.746529       3.351980  \n",
       "std         1.862706       3.597288  \n",
       "min      2009.000000       0.000084  \n",
       "25%      2010.000000       1.280196  \n",
       "50%      2012.000000       2.180383  \n",
       "75%      2013.000000       3.938506  \n",
       "max      2015.000000      49.019114  "
      ]
     },
     "execution_count": 26,
     "metadata": {},
     "output_type": "execute_result"
    }
   ],
   "source": [
    "df2=outlier_correction(df,\"distance\")\n",
    "df2.describe()"
   ]
  },
  {
   "cell_type": "code",
   "execution_count": 27,
   "id": "0a5f8932",
   "metadata": {},
   "outputs": [
    {
     "data": {
      "image/png": "[encoded data removed]",
      "text/plain": [
       "<Figure size 720x504 with 1 Axes>"
      ]
     },
     "metadata": {
      "needs_background": "light"
     },
     "output_type": "display_data"
    },
    {
     "name": "stdout",
     "output_type": "stream",
     "text": [
      "None\n"
     ]
    }
   ],
   "source": [
    "print(show_box_plot(df2,\"distance\"))"
   ]
  },
  {
   "cell_type": "markdown",
   "id": "d19cdf01",
   "metadata": {},
   "source": [
    "### Correlation- plotting the correation between different feature "
   ]
  },
  {
   "cell_type": "code",
   "execution_count": 28,
   "id": "cbd0d549",
   "metadata": {},
   "outputs": [
    {
     "data": {
      "text/html": [
       "<div>\n",
       "<style scoped>\n",
       "    .dataframe tbody tr th:only-of-type {\n",
       "        vertical-align: middle;\n",
       "    }\n",
       "\n",
       "    .dataframe tbody tr th {\n",
       "        vertical-align: top;\n",
       "    }\n",
       "\n",
       "    .dataframe thead th {\n",
       "        text-align: right;\n",
       "    }\n",
       "</style>\n",
       "<table border=\"1\" class=\"dataframe\">\n",
       "  <thead>\n",
       "    <tr style=\"text-align: right;\">\n",
       "      <th></th>\n",
       "      <th>fare_amount</th>\n",
       "      <th>pickup_longitude</th>\n",
       "      <th>pickup_latitude</th>\n",
       "      <th>dropoff_longitude</th>\n",
       "      <th>dropoff_latitude</th>\n",
       "      <th>passenger_count</th>\n",
       "      <th>month</th>\n",
       "      <th>day</th>\n",
       "      <th>year</th>\n",
       "      <th>distance</th>\n",
       "    </tr>\n",
       "  </thead>\n",
       "  <tbody>\n",
       "    <tr>\n",
       "      <th>fare_amount</th>\n",
       "      <td>1.00</td>\n",
       "      <td>0.01</td>\n",
       "      <td>-0.01</td>\n",
       "      <td>0.01</td>\n",
       "      <td>-0.01</td>\n",
       "      <td>0.01</td>\n",
       "      <td>0.02</td>\n",
       "      <td>0.00</td>\n",
       "      <td>0.12</td>\n",
       "      <td>0.87</td>\n",
       "    </tr>\n",
       "    <tr>\n",
       "      <th>pickup_longitude</th>\n",
       "      <td>0.01</td>\n",
       "      <td>1.00</td>\n",
       "      <td>-0.95</td>\n",
       "      <td>1.00</td>\n",
       "      <td>-0.99</td>\n",
       "      <td>0.01</td>\n",
       "      <td>-0.01</td>\n",
       "      <td>0.02</td>\n",
       "      <td>0.01</td>\n",
       "      <td>0.01</td>\n",
       "    </tr>\n",
       "    <tr>\n",
       "      <th>pickup_latitude</th>\n",
       "      <td>-0.01</td>\n",
       "      <td>-0.95</td>\n",
       "      <td>1.00</td>\n",
       "      <td>-0.95</td>\n",
       "      <td>0.95</td>\n",
       "      <td>-0.01</td>\n",
       "      <td>0.01</td>\n",
       "      <td>-0.02</td>\n",
       "      <td>-0.01</td>\n",
       "      <td>0.00</td>\n",
       "    </tr>\n",
       "    <tr>\n",
       "      <th>dropoff_longitude</th>\n",
       "      <td>0.01</td>\n",
       "      <td>1.00</td>\n",
       "      <td>-0.95</td>\n",
       "      <td>1.00</td>\n",
       "      <td>-0.99</td>\n",
       "      <td>0.01</td>\n",
       "      <td>-0.01</td>\n",
       "      <td>0.02</td>\n",
       "      <td>0.01</td>\n",
       "      <td>0.00</td>\n",
       "    </tr>\n",
       "    <tr>\n",
       "      <th>dropoff_latitude</th>\n",
       "      <td>-0.01</td>\n",
       "      <td>-0.99</td>\n",
       "      <td>0.95</td>\n",
       "      <td>-0.99</td>\n",
       "      <td>1.00</td>\n",
       "      <td>-0.01</td>\n",
       "      <td>0.01</td>\n",
       "      <td>-0.02</td>\n",
       "      <td>-0.01</td>\n",
       "      <td>-0.00</td>\n",
       "    </tr>\n",
       "    <tr>\n",
       "      <th>passenger_count</th>\n",
       "      <td>0.01</td>\n",
       "      <td>0.01</td>\n",
       "      <td>-0.01</td>\n",
       "      <td>0.01</td>\n",
       "      <td>-0.01</td>\n",
       "      <td>1.00</td>\n",
       "      <td>0.01</td>\n",
       "      <td>0.00</td>\n",
       "      <td>0.01</td>\n",
       "      <td>0.01</td>\n",
       "    </tr>\n",
       "    <tr>\n",
       "      <th>month</th>\n",
       "      <td>0.02</td>\n",
       "      <td>-0.01</td>\n",
       "      <td>0.01</td>\n",
       "      <td>-0.01</td>\n",
       "      <td>0.01</td>\n",
       "      <td>0.01</td>\n",
       "      <td>1.00</td>\n",
       "      <td>-0.02</td>\n",
       "      <td>-0.12</td>\n",
       "      <td>0.01</td>\n",
       "    </tr>\n",
       "    <tr>\n",
       "      <th>day</th>\n",
       "      <td>0.00</td>\n",
       "      <td>0.02</td>\n",
       "      <td>-0.02</td>\n",
       "      <td>0.02</td>\n",
       "      <td>-0.02</td>\n",
       "      <td>0.00</td>\n",
       "      <td>-0.02</td>\n",
       "      <td>1.00</td>\n",
       "      <td>-0.01</td>\n",
       "      <td>0.00</td>\n",
       "    </tr>\n",
       "    <tr>\n",
       "      <th>year</th>\n",
       "      <td>0.12</td>\n",
       "      <td>0.01</td>\n",
       "      <td>-0.01</td>\n",
       "      <td>0.01</td>\n",
       "      <td>-0.01</td>\n",
       "      <td>0.01</td>\n",
       "      <td>-0.12</td>\n",
       "      <td>-0.01</td>\n",
       "      <td>1.00</td>\n",
       "      <td>0.03</td>\n",
       "    </tr>\n",
       "    <tr>\n",
       "      <th>distance</th>\n",
       "      <td>0.87</td>\n",
       "      <td>0.01</td>\n",
       "      <td>0.00</td>\n",
       "      <td>0.00</td>\n",
       "      <td>-0.00</td>\n",
       "      <td>0.01</td>\n",
       "      <td>0.01</td>\n",
       "      <td>0.00</td>\n",
       "      <td>0.03</td>\n",
       "      <td>1.00</td>\n",
       "    </tr>\n",
       "  </tbody>\n",
       "</table>\n",
       "</div>"
      ],
      "text/plain": [
       "                   fare_amount  pickup_longitude  pickup_latitude  \\\n",
       "fare_amount               1.00              0.01            -0.01   \n",
       "pickup_longitude          0.01              1.00            -0.95   \n",
       "pickup_latitude          -0.01             -0.95             1.00   \n",
       "dropoff_longitude         0.01              1.00            -0.95   \n",
       "dropoff_latitude         -0.01             -0.99             0.95   \n",
       "passenger_count           0.01              0.01            -0.01   \n",
       "month                     0.02             -0.01             0.01   \n",
       "day                       0.00              0.02            -0.02   \n",
       "year                      0.12              0.01            -0.01   \n",
       "distance                  0.87              0.01             0.00   \n",
       "\n",
       "                   dropoff_longitude  dropoff_latitude  passenger_count  \\\n",
       "fare_amount                     0.01             -0.01             0.01   \n",
       "pickup_longitude                1.00             -0.99             0.01   \n",
       "pickup_latitude                -0.95              0.95            -0.01   \n",
       "dropoff_longitude               1.00             -0.99             0.01   \n",
       "dropoff_latitude               -0.99              1.00            -0.01   \n",
       "passenger_count                 0.01             -0.01             1.00   \n",
       "month                          -0.01              0.01             0.01   \n",
       "day                             0.02             -0.02             0.00   \n",
       "year                            0.01             -0.01             0.01   \n",
       "distance                        0.00             -0.00             0.01   \n",
       "\n",
       "                   month   day  year  distance  \n",
       "fare_amount         0.02  0.00  0.12      0.87  \n",
       "pickup_longitude   -0.01  0.02  0.01      0.01  \n",
       "pickup_latitude     0.01 -0.02 -0.01      0.00  \n",
       "dropoff_longitude  -0.01  0.02  0.01      0.00  \n",
       "dropoff_latitude    0.01 -0.02 -0.01     -0.00  \n",
       "passenger_count     0.01  0.00  0.01      0.01  \n",
       "month               1.00 -0.02 -0.12      0.01  \n",
       "day                -0.02  1.00 -0.01      0.00  \n",
       "year               -0.12 -0.01  1.00      0.03  \n",
       "distance            0.01  0.00  0.03      1.00  "
      ]
     },
     "execution_count": 28,
     "metadata": {},
     "output_type": "execute_result"
    }
   ],
   "source": [
    "correaltion_matrix=df2.corr(method='pearson').round(2)\n",
    "correaltion_matrix"
   ]
  },
  {
   "cell_type": "code",
   "execution_count": 29,
   "id": "14ee3b11",
   "metadata": {},
   "outputs": [
    {
     "data": {
      "text/plain": [
       "<AxesSubplot:>"
      ]
     },
     "execution_count": 29,
     "metadata": {},
     "output_type": "execute_result"
    },
    {
     "data": {
      "image/png": "[encoded data removed]",
      "text/plain": [
       "<Figure size 720x576 with 2 Axes>"
      ]
     },
     "metadata": {
      "needs_background": "light"
     },
     "output_type": "display_data"
    }
   ],
   "source": [
    "mp.figure(figsize=(10,8))\n",
    "sns.heatmap(df2.corr().round(2),annot=True)"
   ]
  },
  {
   "cell_type": "markdown",
   "id": "78d2408e",
   "metadata": {},
   "source": [
    "#### Based on heatmap, we can infer that distance and year has correaltion to fare_amount"
   ]
  },
  {
   "cell_type": "markdown",
   "id": "1ba70009",
   "metadata": {},
   "source": [
    "Getting feature and target variable \n",
    "\n",
    "Identifying a subset of the available features that are most relevant to the fare_amount"
   ]
  },
  {
   "cell_type": "code",
   "execution_count": 81,
   "id": "a7546a55",
   "metadata": {},
   "outputs": [],
   "source": [
    "X=df2[['pickup_longitude','pickup_latitude','dropoff_longitude','dropoff_latitude','passenger_count','month','day','year','distance']]\n",
    "\n",
    "\n",
    "Y=df2[['fare_amount']]"
   ]
  },
  {
   "cell_type": "code",
   "execution_count": 82,
   "id": "846b7eee",
   "metadata": {},
   "outputs": [],
   "source": [
    "X_train, X_test, y_train, y_test=train_test_split(X,Y, test_size=0.2, random_state=0)"
   ]
  },
  {
   "cell_type": "markdown",
   "id": "4759a71b",
   "metadata": {},
   "source": [
    "#### Model Building"
   ]
  },
  {
   "cell_type": "code",
   "execution_count": 83,
   "id": "d6c36c5c",
   "metadata": {},
   "outputs": [],
   "source": [
    "model=LinearRegression()\n",
    "model_fit=model.fit(X_train,y_train)"
   ]
  },
  {
   "cell_type": "markdown",
   "id": "8b442f39",
   "metadata": {},
   "source": [
    "#### Calculate r2 score of model"
   ]
  },
  {
   "cell_type": "code",
   "execution_count": 84,
   "id": "68d49a80",
   "metadata": {},
   "outputs": [
    {
     "name": "stdout",
     "output_type": "stream",
     "text": [
      "77.26223915930763\n"
     ]
    }
   ],
   "source": [
    "accuracy=model.score(X_test,y_test)\n",
    "print(accuracy*100)\n",
    "y_pred=model.predict(X_test)"
   ]
  },
  {
   "cell_type": "code",
   "execution_count": 86,
   "id": "e8c57297",
   "metadata": {},
   "outputs": [
    {
     "name": "stdout",
     "output_type": "stream",
     "text": [
      "77.26223915930763\n"
     ]
    }
   ],
   "source": [
    "r2_score=r2_score(y_test,y_pred)\n",
    "print((r2_score)*100)"
   ]
  },
  {
   "cell_type": "markdown",
   "id": "71d1c19a",
   "metadata": {},
   "source": [
    "An R-squared value of ~77% suggests that the model is a good fit for the data, and that the model's predictions are able to account for a large portion of the variation in the target variable."
   ]
  }
 ],
 "metadata": {
  "kernelspec": {
   "display_name": "Python 3 (ipykernel)",
   "language": "python",
   "name": "python3"
  },
  "language_info": {
   "codemirror_mode": {
    "name": "ipython",
    "version": 3
   },
   "file_extension": ".py",
   "mimetype": "text/x-python",
   "name": "python",
   "nbconvert_exporter": "python",
   "pygments_lexer": "ipython3",
   "version": "3.9.12"
  }
 },
 "nbformat": 4,
 "nbformat_minor": 5
}
